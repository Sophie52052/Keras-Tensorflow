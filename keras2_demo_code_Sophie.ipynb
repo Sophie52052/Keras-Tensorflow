
{
 "cells": [
  {
   "cell_type": "code",
   "execution_count": 2,
   "metadata": {},
   "outputs": [
    {
     "name": "stderr",
     "output_type": "stream",
     "text": [
      "C:\\Users\\Sophie\\Anaconda3\\envs\\py3.6\\lib\\site-packages\\tensorflow\\python\\framework\\dtypes.py:516: FutureWarning: Passing (type, 1) or '1type' as a synonym of type is deprecated; in a future version of numpy, it will be understood as (type, (1,)) / '(1,)type'.\n",
      "  _np_qint8 = np.dtype([(\"qint8\", np.int8, 1)])\n",
      "C:\\Users\\Sophie\\Anaconda3\\envs\\py3.6\\lib\\site-packages\\tensorflow\\python\\framework\\dtypes.py:517: FutureWarning: Passing (type, 1) or '1type' as a synonym of type is deprecated; in a future version of numpy, it will be understood as (type, (1,)) / '(1,)type'.\n",
      "  _np_quint8 = np.dtype([(\"quint8\", np.uint8, 1)])\n",
      "C:\\Users\\Sophie\\Anaconda3\\envs\\py3.6\\lib\\site-packages\\tensorflow\\python\\framework\\dtypes.py:518: FutureWarning: Passing (type, 1) or '1type' as a synonym of type is deprecated; in a future version of numpy, it will be understood as (type, (1,)) / '(1,)type'.\n",
      "  _np_qint16 = np.dtype([(\"qint16\", np.int16, 1)])\n",
      "C:\\Users\\Sophie\\Anaconda3\\envs\\py3.6\\lib\\site-packages\\tensorflow\\python\\framework\\dtypes.py:519: FutureWarning: Passing (type, 1) or '1type' as a synonym of type is deprecated; in a future version of numpy, it will be understood as (type, (1,)) / '(1,)type'.\n",
      "  _np_quint16 = np.dtype([(\"quint16\", np.uint16, 1)])\n",
      "C:\\Users\\Sophie\\Anaconda3\\envs\\py3.6\\lib\\site-packages\\tensorflow\\python\\framework\\dtypes.py:520: FutureWarning: Passing (type, 1) or '1type' as a synonym of type is deprecated; in a future version of numpy, it will be understood as (type, (1,)) / '(1,)type'.\n",
      "  _np_qint32 = np.dtype([(\"qint32\", np.int32, 1)])\n",
      "C:\\Users\\Sophie\\Anaconda3\\envs\\py3.6\\lib\\site-packages\\tensorflow\\python\\framework\\dtypes.py:525: FutureWarning: Passing (type, 1) or '1type' as a synonym of type is deprecated; in a future version of numpy, it will be understood as (type, (1,)) / '(1,)type'.\n",
      "  np_resource = np.dtype([(\"resource\", np.ubyte, 1)])\n",
      "C:\\Users\\Sophie\\Anaconda3\\envs\\py3.6\\lib\\site-packages\\tensorboard\\compat\\tensorflow_stub\\dtypes.py:541: FutureWarning: Passing (type, 1) or '1type' as a synonym of type is deprecated; in a future version of numpy, it will be understood as (type, (1,)) / '(1,)type'.\n",
      "  _np_qint8 = np.dtype([(\"qint8\", np.int8, 1)])\n",
      "C:\\Users\\Sophie\\Anaconda3\\envs\\py3.6\\lib\\site-packages\\tensorboard\\compat\\tensorflow_stub\\dtypes.py:542: FutureWarning: Passing (type, 1) or '1type' as a synonym of type is deprecated; in a future version of numpy, it will be understood as (type, (1,)) / '(1,)type'.\n",
      "  _np_quint8 = np.dtype([(\"quint8\", np.uint8, 1)])\n",
      "C:\\Users\\Sophie\\Anaconda3\\envs\\py3.6\\lib\\site-packages\\tensorboard\\compat\\tensorflow_stub\\dtypes.py:543: FutureWarning: Passing (type, 1) or '1type' as a synonym of type is deprecated; in a future version of numpy, it will be understood as (type, (1,)) / '(1,)type'.\n",
      "  _np_qint16 = np.dtype([(\"qint16\", np.int16, 1)])\n",
      "C:\\Users\\Sophie\\Anaconda3\\envs\\py3.6\\lib\\site-packages\\tensorboard\\compat\\tensorflow_stub\\dtypes.py:544: FutureWarning: Passing (type, 1) or '1type' as a synonym of type is deprecated; in a future version of numpy, it will be understood as (type, (1,)) / '(1,)type'.\n",
      "  _np_quint16 = np.dtype([(\"quint16\", np.uint16, 1)])\n",
      "C:\\Users\\Sophie\\Anaconda3\\envs\\py3.6\\lib\\site-packages\\tensorboard\\compat\\tensorflow_stub\\dtypes.py:545: FutureWarning: Passing (type, 1) or '1type' as a synonym of type is deprecated; in a future version of numpy, it will be understood as (type, (1,)) / '(1,)type'.\n",
      "  _np_qint32 = np.dtype([(\"qint32\", np.int32, 1)])\n",
      "C:\\Users\\Sophie\\Anaconda3\\envs\\py3.6\\lib\\site-packages\\tensorboard\\compat\\tensorflow_stub\\dtypes.py:550: FutureWarning: Passing (type, 1) or '1type' as a synonym of type is deprecated; in a future version of numpy, it will be understood as (type, (1,)) / '(1,)type'.\n",
      "  np_resource = np.dtype([(\"resource\", np.ubyte, 1)])\n",
      "Using TensorFlow backend.\n"
     ]
    }
   ],
   "source": [
    "import tensorflow as tf\n",
    "import numpy as np\n",
    "from keras.optimizers import Adam, SGD\n",
    "from keras.layers import *\n",
    "from keras.models import *\n",
    "from keras.utils import plot_model\n",
    "import matplotlib.pyplot as plt\n"
   ]
  },
  {
   "cell_type": "code",
   "execution_count": 3,
   "metadata": {},
   "outputs": [
    {
     "data": {
      "text/plain": [
       "(8, 20, 20, 2)"
      ]
     },
     "execution_count": 3,
     "metadata": {},
     "output_type": "execute_result"
    }
   ],
   "source": [
    "test_data=np.reshape(np.arange(0,8*20*20*2), (8, 20, 20, 2)) #後=前 (張, x , y, chanel)\n",
    "test_data.shape\n",
    "\n",
    "#筆資料.R.C.channel\n",
    "\n",
    "#把np.arange(0,8*20*20*2) reshape成(8, 20, 20, 2)\n",
    "#np.arange(0,8*20*20*2)\n",
    "#[   0    1    2 ... 6397 6398 6399]"
   ]
  },
  {
   "cell_type": "code",
   "execution_count": 4,
   "metadata": {},
   "outputs": [
    {
     "name": "stdout",
     "output_type": "stream",
     "text": [
      "WARNING:tensorflow:From C:\\Users\\Sophie\\Anaconda3\\envs\\py3.6\\lib\\site-packages\\keras\\backend\\tensorflow_backend.py:66: The name tf.get_default_graph is deprecated. Please use tf.compat.v1.get_default_graph instead.\n",
      "\n"
     ]
    }
   ],
   "source": [
    "#1 Flatten Dense\n",
    "model=Sequential()\n",
    "model.add(Flatten())"
   ]
  },
  {
   "cell_type": "code",
   "execution_count": 5,
   "metadata": {},
   "outputs": [
    {
     "name": "stdout",
     "output_type": "stream",
     "text": [
      "WARNING:tensorflow:From C:\\Users\\Sophie\\Anaconda3\\envs\\py3.6\\lib\\site-packages\\keras\\backend\\tensorflow_backend.py:541: The name tf.placeholder is deprecated. Please use tf.compat.v1.placeholder instead.\n",
      "\n",
      "WARNING:tensorflow:From C:\\Users\\Sophie\\Anaconda3\\envs\\py3.6\\lib\\site-packages\\keras\\backend\\tensorflow_backend.py:3005: The name tf.Session is deprecated. Please use tf.compat.v1.Session instead.\n",
      "\n",
      "WARNING:tensorflow:From C:\\Users\\Sophie\\Anaconda3\\envs\\py3.6\\lib\\site-packages\\keras\\backend\\tensorflow_backend.py:190: The name tf.get_default_session is deprecated. Please use tf.compat.v1.get_default_session instead.\n",
      "\n",
      "WARNING:tensorflow:From C:\\Users\\Sophie\\Anaconda3\\envs\\py3.6\\lib\\site-packages\\keras\\backend\\tensorflow_backend.py:197: The name tf.ConfigProto is deprecated. Please use tf.compat.v1.ConfigProto instead.\n",
      "\n"
     ]
    },
    {
     "data": {
      "text/plain": [
       "(8, 800)"
      ]
     },
     "execution_count": 5,
     "metadata": {},
     "output_type": "execute_result"
    }
   ],
   "source": [
    "output=model.predict(test_data)\n",
    "output.shape\n",
    "#pridict & pridict_class https://blog.csdn.net/tszupup/article/details/85275111\n",
    "\n",
    "#predict 打印概率\n",
    "# [[3.3745366e-01 2.2980917e-02 2.0197949e-03 1.2046755e-02 1.9850987e-03\n",
    "#   1.3152690e-04 4.0220530e-03 1.3779138e-03 5.9722424e-01 2.0758053e-02]\n",
    "\n",
    "#pridict_class 最大概率对应的标签 \n",
    "# [8 2 3]"
   ]
  },
  {
   "cell_type": "code",
   "execution_count": 8,
   "metadata": {},
   "outputs": [],
   "source": [
    "model=Sequential()\n",
    "model.add(Flatten())\n",
    "model.add(Dense(50, input_dim=(800,))) #800後面接張數,此處為8,不寫才不會因為寫錯而crash\n",
    "\n",
    "#input_dim = input_shape(input_dim,)\n",
    "#input_dim=784，說明輸入是一個784維的向量，這相當於一個一階的張量，它的shape就是(784,)\n",
    "#shape\n",
    "#[1,2,3]的shape是(3,); [[1,2,3],[4,5,6]]的shape是(2,3);[[[1],[2],[3]],[[4],[5],[6]]]的shape是(2,3,1)"
   ]
  },
  {
   "cell_type": "code",
   "execution_count": 9,
   "metadata": {},
   "outputs": [
    {
     "data": {
      "text/plain": [
       "(8, 50)"
      ]
     },
     "execution_count": 9,
     "metadata": {},
     "output_type": "execute_result"
    }
   ],
   "source": [
    "output=model.predict(test_data) #predict做上面的事\n",
    "output.shape"
   ]
  },
  {
   "cell_type": "code",
   "execution_count": 10,
   "metadata": {},
   "outputs": [],
   "source": [
    "#2 Flatten Dense Activation\n",
    "model=Sequential()\n",
    "model.add(Flatten())\n",
    "model.add(Dense(50, input_dim=(800,)))\n",
    "model.add(Activation('sigmoid'))"
   ]
  },
  {
   "cell_type": "code",
   "execution_count": 11,
   "metadata": {},
   "outputs": [
    {
     "data": {
      "text/plain": [
       "(8, 50)"
      ]
     },
     "execution_count": 11,
     "metadata": {},
     "output_type": "execute_result"
    }
   ],
   "source": [
    "output=model.predict(test_data)\n",
    "output.shape"
   ]
  },
  {
   "cell_type": "code",
   "execution_count": 12,
   "metadata": {},
   "outputs": [],
   "source": [
    "#3\n",
    "input_layer=Input(shape=(20,20,2))\n",
    "x=Flatten()(input_layer)\n",
    "x=Dense(50)(x)\n",
    "output=Activation('sigmoid')(x)\n",
    "model=Model(inputs=input_layer, outputs=output)  #input_layer入 output出\n"
   ]
  },
  {
   "cell_type": "code",
   "execution_count": 13,
   "metadata": {},
   "outputs": [
    {
     "data": {
      "text/plain": [
       "(8, 50)"
      ]
     },
     "execution_count": 13,
     "metadata": {},
     "output_type": "execute_result"
    }
   ],
   "source": [
    "output=model.predict(test_data)\n",
    "output.shape"
   ]
  },
  {
   "cell_type": "code",
   "execution_count": 14,
   "metadata": {},
   "outputs": [],
   "source": [
    "test_data2=np.reshape(np.arange(0,8*50), (8,50))\n",
    "\n",
    "input_layer1=Input(shape=(20,20,2))\n",
    "input_layer2=Input(shape=(50,))\n",
    "x=Flatten()(input_layer1) #壓平得vector 20*20*2=800\n",
    "output1=Dense(50)(x)  #8*50\n",
    "\n",
    "x=Multiply()([output1, input_layer2]) #拿8*50和input_layer2 #全連接層+50 cell 得 800*50=40000參數\n",
    "\n",
    "x=Dense(100)(output1) \n",
    "output2=Activation('sigmoid')(x)\n",
    "\n",
    "model=Model(inputs=[input_layer1, input_layer2], outputs=[output1, output2])\n",
    "\n",
    "#計算輸入張量列表的（逐元素間的）乘積\n",
    "#2比1更有彈性"
   ]
  },
  {
   "cell_type": "code",
   "execution_count": 15,
   "metadata": {},
   "outputs": [
    {
     "name": "stdout",
     "output_type": "stream",
     "text": [
      "output 1 shape: (8, 50) ; output 2 shape: (8, 100)\n"
     ]
    }
   ],
   "source": [
    "output=model.predict([test_data, test_data2])\n",
    "print('output 1 shape: {} ; output 2 shape: {}'.format(output[0].shape, output[1].shape))"
   ]
  },
  {
   "cell_type": "markdown",
   "metadata": {},
   "source": [
    "# Quiz time:   How many parameters in this model??????"
   ]
  },
  {
   "cell_type": "code",
   "execution_count": 16,
   "metadata": {},
   "outputs": [
    {
     "name": "stderr",
     "output_type": "stream",
     "text": [
      "W0827 16:47:24.341460  7508 deprecation.py:506] From C:\\Users\\Sophie\\Anaconda3\\envs\\py3.6\\lib\\site-packages\\keras\\backend\\tensorflow_backend.py:3733: calling dropout (from tensorflow.python.ops.nn_ops) with keep_prob is deprecated and will be removed in a future version.\n",
      "Instructions for updating:\n",
      "Please use `rate` instead of `keep_prob`. Rate should be set to `rate = 1 - keep_prob`.\n",
      "W0827 16:47:24.358464  7508 deprecation_wrapper.py:119] From C:\\Users\\Sophie\\Anaconda3\\envs\\py3.6\\lib\\site-packages\\keras\\optimizers.py:793: The name tf.train.Optimizer is deprecated. Please use tf.compat.v1.train.Optimizer instead.\n",
      "\n"
     ]
    }
   ],
   "source": [
    "input_layer=Input(shape=(20,20,2))\n",
    "x=Flatten()(input_layer)\n",
    "x=Dense(50)(x)\n",
    "x=Dropout(0.2)(x) #隨機隱藏\n",
    "output=Activation('linear')(x)\n",
    "model=Model(inputs=input_layer, outputs=output)\n",
    "\n",
    "model.compile(optimizer='Adam', metrics=['accuracy'], loss=['mse'])"
   ]
  },
  {
   "cell_type": "code",
   "execution_count": 17,
   "metadata": {},
   "outputs": [
    {
     "name": "stdout",
     "output_type": "stream",
     "text": [
      "Epoch 1/20\n",
      "8/8 [==============================] - 0s 15ms/step - loss: 7451788.4375 - acc: 0.0000e+00\n",
      "Epoch 2/20\n",
      "8/8 [==============================] - 0s 625us/step - loss: 5660501.5625 - acc: 0.0000e+00\n",
      "Epoch 3/20\n",
      "8/8 [==============================] - 0s 626us/step - loss: 3637223.1641 - acc: 0.0000e+00\n",
      "Epoch 4/20\n",
      "8/8 [==============================] - 0s 623us/step - loss: 3551602.5938 - acc: 0.0000e+00\n",
      "Epoch 5/20\n",
      "8/8 [==============================] - 0s 874us/step - loss: 2172368.0820 - acc: 0.0000e+00\n",
      "Epoch 6/20\n",
      "8/8 [==============================] - 0s 875us/step - loss: 3902564.6875 - acc: 0.0000e+00\n",
      "Epoch 7/20\n",
      "8/8 [==============================] - 0s 623us/step - loss: 1553329.7930 - acc: 0.0000e+00\n",
      "Epoch 8/20\n",
      "8/8 [==============================] - 0s 874us/step - loss: 3022085.5000 - acc: 0.0000e+00\n",
      "Epoch 9/20\n",
      "8/8 [==============================] - 0s 1ms/step - loss: 1137320.6641 - acc: 0.0000e+00\n",
      "Epoch 10/20\n",
      "8/8 [==============================] - 0s 999us/step - loss: 1175576.3594 - acc: 0.0000e+00\n",
      "Epoch 11/20\n",
      "8/8 [==============================] - 0s 1ms/step - loss: 936821.5234 - acc: 0.0000e+00\n",
      "Epoch 12/20\n",
      "8/8 [==============================] - 0s 1000us/step - loss: 567421.8164 - acc: 0.0000e+00\n",
      "Epoch 13/20\n",
      "8/8 [==============================] - 0s 1ms/step - loss: 495676.5859 - acc: 0.0000e+00\n",
      "Epoch 14/20\n",
      "8/8 [==============================] - 0s 875us/step - loss: 341160.0000 - acc: 0.0000e+00\n",
      "Epoch 15/20\n",
      "8/8 [==============================] - 0s 1ms/step - loss: 301518.0293 - acc: 0.0000e+00\n",
      "Epoch 16/20\n",
      "8/8 [==============================] - 0s 625us/step - loss: 153593.4189 - acc: 0.0000e+00\n",
      "Epoch 17/20\n",
      "8/8 [==============================] - 0s 1ms/step - loss: 202828.2383 - acc: 0.0000e+00\n",
      "Epoch 18/20\n",
      "8/8 [==============================] - 0s 624us/step - loss: 129352.7031 - acc: 0.0000e+00\n",
      "Epoch 19/20\n",
      "8/8 [==============================] - 0s 1ms/step - loss: 135889.5176 - acc: 0.0000e+00\n",
      "Epoch 20/20\n",
      "8/8 [==============================] - 0s 999us/step - loss: 132197.2070 - acc: 0.0000e+00\n"
     ]
    },
    {
     "data": {
      "text/plain": [
       "<keras.callbacks.History at 0x2b25b16fe10>"
      ]
     },
     "execution_count": 17,
     "metadata": {},
     "output_type": "execute_result"
    }
   ],
   "source": [
    "model.fit(test_data, test_data2, epochs=20, batch_size=2)\n",
    "\n",
    "# epoch：1個epoch表示過了1遍訓練集中的所有樣本\n",
    "# batch-size：1次迭代所使用的樣本量"
   ]
  },
  {
   "cell_type": "code",
   "execution_count": 19,
   "metadata": {},
   "outputs": [
    {
     "name": "stdout",
     "output_type": "stream",
     "text": [
      "Model: \"model_6\"\n",
      "_________________________________________________________________\n",
      "Layer (type)                 Output Shape              Param #   \n",
      "=================================================================\n",
      "input_8 (InputLayer)         (None, 20, 20, 2)         0         \n",
      "_________________________________________________________________\n",
      "flatten_9 (Flatten)          (None, 800)               0         \n",
      "_________________________________________________________________\n",
      "dense_10 (Dense)             (None, 50)                40000     \n",
      "=================================================================\n",
      "Total params: 40,000\n",
      "Trainable params: 40,000\n",
      "Non-trainable params: 0\n",
      "_________________________________________________________________\n"
     ]
    }
   ],
   "source": [
    "input_layer=Input(shape=(20,20,2))\n",
    "x=Flatten()(input_layer)\n",
    "\n",
    "output=Dense(50, activation='linear', use_bias=False, kernel_initializer='glorot_uniform'\\\n",
    "             , bias_initializer='zeros', kernel_regularizer=None, bias_regularizer=None\\\n",
    "             , activity_regularizer=None, kernel_constraint=None, bias_constraint=None)(x)\n",
    "\n",
    "model=Model(inputs=input_layer, outputs=output)\n",
    "model.summary()\n",
    "\n",
    "#20*20*2*50\n",
    "#若b=fault 則不加50\n",
    "#Bias即所謂的Underfitting，因為參數過少連Training set都會有頗大的預測誤差\n",
    "#Variance即所謂的Overfitting，因為參數過多導致過度符合Training set的資料特性，使得其無法預測較為普遍的資料集\n"
   ]
  },
  {
   "cell_type": "markdown",
   "metadata": {},
   "source": [
    "# RNN"
   ]
  },
  {
   "cell_type": "code",
   "execution_count": 20,
   "metadata": {},
   "outputs": [],
   "source": [
    "input_layer=Input(shape=(20,20,2))\n",
    "\n",
    "x=Reshape((8,100))(input_layer)\n",
    "output=SimpleRNN(50)(x)\n",
    "\n",
    "model=Model(inputs=input_layer, outputs=output)\n",
    "#(100+50)*50+50"
   ]
  },
  {
   "cell_type": "code",
   "execution_count": 21,
   "metadata": {},
   "outputs": [
    {
     "name": "stdout",
     "output_type": "stream",
     "text": [
      "Model: \"model_7\"\n",
      "_________________________________________________________________\n",
      "Layer (type)                 Output Shape              Param #   \n",
      "=================================================================\n",
      "input_9 (InputLayer)         (None, 20, 20, 2)         0         \n",
      "_________________________________________________________________\n",
      "reshape_1 (Reshape)          (None, 8, 100)            0         \n",
      "_________________________________________________________________\n",
      "simple_rnn_1 (SimpleRNN)     (None, 50)                7550      \n",
      "=================================================================\n",
      "Total params: 7,550\n",
      "Trainable params: 7,550\n",
      "Non-trainable params: 0\n",
      "_________________________________________________________________\n"
     ]
    }
   ],
   "source": [
    "model.summary()"
   ]
  },
  {
   "cell_type": "code",
   "execution_count": 58,
   "metadata": {},
   "outputs": [],
   "source": [
    "input_layer=Input(shape=(20,20,2))\n",
    "\n",
    "x=Reshape((8,100))(input_layer)\n",
    "output=SimpleRNN(50, use_bias=False, return_sequences=True, return_state=True, stateful=False)(x)\n",
    "\n",
    "model=Model(inputs=input_layer, outputs=output)"
   ]
  },
  {
   "cell_type": "code",
   "execution_count": 59,
   "metadata": {},
   "outputs": [
    {
     "name": "stdout",
     "output_type": "stream",
     "text": [
      "_________________________________________________________________\n",
      "Layer (type)                 Output Shape              Param #   \n",
      "=================================================================\n",
      "input_32 (InputLayer)        (None, 20, 20, 2)         0         \n",
      "_________________________________________________________________\n",
      "reshape_12 (Reshape)         (None, 8, 100)            0         \n",
      "_________________________________________________________________\n",
      "simple_rnn_11 (SimpleRNN)    [(None, 8, 50), (None, 50 7500      \n",
      "=================================================================\n",
      "Total params: 7,500\n",
      "Trainable params: 7,500\n",
      "Non-trainable params: 0\n",
      "_________________________________________________________________\n"
     ]
    }
   ],
   "source": [
    "model.summary()"
   ]
  },
  {
   "cell_type": "code",
   "execution_count": 64,
   "metadata": {},
   "outputs": [],
   "source": [
    "input_layer=Input(shape=(20,20,2))\n",
    "\n",
    "x=Reshape((8,100))(input_layer)\n",
    "output=LSTM(50, use_bias=True, return_sequences=False, return_state=False, stateful=False)(x)\n",
    "\n",
    "model=Model(inputs=input_layer, outputs=output)\n",
    "\n",
    "#return_sequences：默認False。在輸出序列中，返回單個hidden state值還是返回全部time step的hidden state值。False返回單個， true返回全部。\n",
    "#return_state：默認False。是否返回除輸出之外的最後一個狀態。\n"
   ]
  },
  {
   "cell_type": "markdown",
   "metadata": {},
   "source": [
    "# Quiz time:   How many parameters in this model??????"
   ]
  },
  {
   "cell_type": "code",
   "execution_count": 65,
   "metadata": {},
   "outputs": [
    {
     "name": "stdout",
     "output_type": "stream",
     "text": [
      "_________________________________________________________________\n",
      "Layer (type)                 Output Shape              Param #   \n",
      "=================================================================\n",
      "input_35 (InputLayer)        (None, 20, 20, 2)         0         \n",
      "_________________________________________________________________\n",
      "reshape_15 (Reshape)         (None, 8, 100)            0         \n",
      "_________________________________________________________________\n",
      "lstm_3 (LSTM)                (None, 50)                30200     \n",
      "=================================================================\n",
      "Total params: 30,200\n",
      "Trainable params: 30,200\n",
      "Non-trainable params: 0\n",
      "_________________________________________________________________\n"
     ]
    }
   ],
   "source": [
    "model.summary()\n",
    "#上*4"
   ]
  },
  {
   "cell_type": "code",
   "execution_count": 66,
   "metadata": {},
   "outputs": [],
   "source": [
    "input_layer=Input(shape=(20,20,2))\n",
    "\n",
    "x=Reshape((8,100))(input_layer)\n",
    "output=GRU(50, use_bias=True, return_sequences=False, return_state=False, stateful=False)(x)\n",
    "\n",
    "model=Model(inputs=input_layer, outputs=output)\n"
   ]
  },
  {
   "cell_type": "markdown",
   "metadata": {},
   "source": [
    "# Quiz time:   How many parameters in this model??????"
   ]
  },
  {
   "cell_type": "code",
   "execution_count": 67,
   "metadata": {},
   "outputs": [
    {
     "name": "stdout",
     "output_type": "stream",
     "text": [
      "_________________________________________________________________\n",
      "Layer (type)                 Output Shape              Param #   \n",
      "=================================================================\n",
      "input_36 (InputLayer)        (None, 20, 20, 2)         0         \n",
      "_________________________________________________________________\n",
      "reshape_16 (Reshape)         (None, 8, 100)            0         \n",
      "_________________________________________________________________\n",
      "gru_1 (GRU)                  (None, 50)                22650     \n",
      "=================================================================\n",
      "Total params: 22,650\n",
      "Trainable params: 22,650\n",
      "Non-trainable params: 0\n",
      "_________________________________________________________________\n"
     ]
    }
   ],
   "source": [
    "model.summary()\n",
    "#上*3"
   ]
  },
  {
   "cell_type": "markdown",
   "metadata": {},
   "source": [
    "# CNN"
   ]
  },
  {
   "cell_type": "code",
   "execution_count": 104,
   "metadata": {},
   "outputs": [],
   "source": [
    "input_layer=Input(shape=(64,64,3))\n",
    "\n",
    "output=Conv2D(filters=32, kernel_size=(3,3), strides=(1, 1), padding='same', dilation_rate=(1, 1), activation=None\\\n",
    "         , use_bias=True, kernel_initializer='glorot_uniform', bias_initializer='zeros', kernel_regularizer=None\\\n",
    "         , bias_regularizer=None, activity_regularizer=None, kernel_constraint=None, bias_constraint=None)(input_layer)\n",
    "\n",
    "\n",
    "model=Model(inputs=input_layer, outputs=output)\n",
    "\n",
    "#dilation_rate &  strides 差別:前面中間也有掃 後者是放大跳過\n",
    "#不管照片大小 只管filter\n"
   ]
  },
  {
   "cell_type": "code",
   "execution_count": 105,
   "metadata": {},
   "outputs": [
    {
     "name": "stdout",
     "output_type": "stream",
     "text": [
      "_________________________________________________________________\n",
      "Layer (type)                 Output Shape              Param #   \n",
      "=================================================================\n",
      "input_60 (InputLayer)        (None, 64, 64, 3)         0         \n",
      "_________________________________________________________________\n",
      "conv2d_23 (Conv2D)           (None, 64, 64, 32)        896       \n",
      "=================================================================\n",
      "Total params: 896\n",
      "Trainable params: 896\n",
      "Non-trainable params: 0\n",
      "_________________________________________________________________\n"
     ]
    }
   ],
   "source": [
    "model.summary()\n",
    "#3*3*3*32+32"
   ]
  },
  {
   "cell_type": "code",
   "execution_count": 106,
   "metadata": {},
   "outputs": [],
   "source": [
    "input_layer=Input(shape=(128,128,32))\n",
    "\n",
    "output=Conv2D(filters=128, kernel_size=(3,3), strides=(1, 1), padding='same', dilation_rate=(1, 1), activation=None\\\n",
    "         , use_bias=True, kernel_initializer='glorot_uniform', bias_initializer='zeros', kernel_regularizer=None\\\n",
    "         , bias_regularizer=None, activity_regularizer=None, kernel_constraint=None, bias_constraint=None)(input_layer)\n",
    "\n",
    "\n",
    "model=Model(inputs=input_layer, outputs=output)"
   ]
  },
  {
   "cell_type": "markdown",
   "metadata": {},
   "source": [
    "# Quiz time:   How many parameters in this model??????"
   ]
  },
  {
   "cell_type": "code",
   "execution_count": 107,
   "metadata": {},
   "outputs": [
    {
     "name": "stdout",
     "output_type": "stream",
     "text": [
      "_________________________________________________________________\n",
      "Layer (type)                 Output Shape              Param #   \n",
      "=================================================================\n",
      "input_61 (InputLayer)        (None, 128, 128, 32)      0         \n",
      "_________________________________________________________________\n",
      "conv2d_24 (Conv2D)           (None, 128, 128, 128)     36992     \n",
      "=================================================================\n",
      "Total params: 36,992\n",
      "Trainable params: 36,992\n",
      "Non-trainable params: 0\n",
      "_________________________________________________________________\n"
     ]
    }
   ],
   "source": [
    "model.summary()\n",
    "#32*9*128+128   ?"
   ]
  },
  {
   "cell_type": "code",
   "execution_count": 123,
   "metadata": {},
   "outputs": [],
   "source": [
    "input_layer=Input(shape=(128,128,32))\n",
    "\n",
    "output=DepthwiseConv2D(            kernel_size=(3,3), strides=(1, 1), padding='same', dilation_rate=(1, 1), activation=None\\\n",
    "         , use_bias=True, kernel_initializer='glorot_uniform', bias_initializer='zeros', kernel_regularizer=None\\\n",
    "         , bias_regularizer=None, activity_regularizer=None, kernel_constraint=None, bias_constraint=None)(input_layer)\n",
    "\n",
    "\n",
    "model=Model(inputs=input_layer, outputs=output)"
   ]
  },
  {
   "cell_type": "code",
   "execution_count": 118,
   "metadata": {},
   "outputs": [
    {
     "name": "stdout",
     "output_type": "stream",
     "text": [
      "_________________________________________________________________\n",
      "Layer (type)                 Output Shape              Param #   \n",
      "=================================================================\n",
      "input_68 (InputLayer)        (None, 128, 128, 32)      0         \n",
      "_________________________________________________________________\n",
      "depthwise_conv2d_3 (Depthwis (None, 128, 128, 32)      320       \n",
      "=================================================================\n",
      "Total params: 320\n",
      "Trainable params: 320\n",
      "Non-trainable params: 0\n",
      "_________________________________________________________________\n"
     ]
    }
   ],
   "source": [
    "model.summary()"
   ]
  },
  {
   "cell_type": "code",
   "execution_count": 121,
   "metadata": {},
   "outputs": [],
   "source": [
    "input_layer=Input(shape=(128,128,32))\n",
    "\n",
    "output=SeparableConv2D(filters=128, kernel_size=(3,3), strides=(1, 1), padding='same', dilation_rate=(1, 1), activation=None\\\n",
    "         , use_bias=True, kernel_initializer='glorot_uniform', bias_initializer='zeros', kernel_regularizer=None\\\n",
    "         , bias_regularizer=None, activity_regularizer=None, kernel_constraint=None, bias_constraint=None)(input_layer)\n",
    "\n",
    "\n",
    "model=Model(inputs=input_layer, outputs=output)"
   ]
  },
  {
   "cell_type": "code",
   "execution_count": 122,
   "metadata": {},
   "outputs": [
    {
     "name": "stdout",
     "output_type": "stream",
     "text": [
      "_________________________________________________________________\n",
      "Layer (type)                 Output Shape              Param #   \n",
      "=================================================================\n",
      "input_70 (InputLayer)        (None, 128, 128, 32)      0         \n",
      "_________________________________________________________________\n",
      "separable_conv2d_3 (Separabl (None, 128, 128, 128)     4512      \n",
      "=================================================================\n",
      "Total params: 4,512\n",
      "Trainable params: 4,512\n",
      "Non-trainable params: 0\n",
      "_________________________________________________________________\n"
     ]
    }
   ],
   "source": [
    "model.summary()\n",
    "#(3*3+128)*8  ?"
   ]
  },
  {
   "cell_type": "code",
   "execution_count": 130,
   "metadata": {},
   "outputs": [
    {
     "name": "stdout",
     "output_type": "stream",
     "text": [
      "_________________________________________________________________\n",
      "Layer (type)                 Output Shape              Param #   \n",
      "=================================================================\n",
      "input_78 (InputLayer)        (None, 128, 128, 32)      0         \n",
      "_________________________________________________________________\n",
      "conv2d_31 (Conv2D)           (None, 128, 128, 128)     36992     \n",
      "_________________________________________________________________\n",
      "max_pooling2d_7 (MaxPooling2 (None, 64, 64, 128)       0         \n",
      "=================================================================\n",
      "Total params: 36,992\n",
      "Trainable params: 36,992\n",
      "Non-trainable params: 0\n",
      "_________________________________________________________________\n"
     ]
    }
   ],
   "source": [
    "input_layer=Input(shape=(128,128,32))\n",
    "\n",
    "x=Conv2D(filters=128, kernel_size=(3,3), strides=(1, 1), padding='same')(input_layer)\n",
    "output=MaxPooling2D(pool_size=(2, 2), strides=None, padding='valid', data_format=None)(x)\n",
    "\n",
    "model=Model(inputs=input_layer, outputs=output)\n",
    "model.summary()"
   ]
  },
  {
   "cell_type": "code",
   "execution_count": 131,
   "metadata": {},
   "outputs": [
    {
     "name": "stdout",
     "output_type": "stream",
     "text": [
      "_________________________________________________________________\n",
      "Layer (type)                 Output Shape              Param #   \n",
      "=================================================================\n",
      "input_79 (InputLayer)        (None, 128, 128, 32)      0         \n",
      "_________________________________________________________________\n",
      "conv2d_32 (Conv2D)           (None, 128, 128, 128)     36992     \n",
      "_________________________________________________________________\n",
      "global_average_pooling2d_1 ( (None, 128)               0         \n",
      "=================================================================\n",
      "Total params: 36,992\n",
      "Trainable params: 36,992\n",
      "Non-trainable params: 0\n",
      "_________________________________________________________________\n"
     ]
    }
   ],
   "source": [
    "input_layer=Input(shape=(128,128,32))\n",
    "\n",
    "x=Conv2D(filters=128, kernel_size=(3,3), strides=(1, 1), padding='same')(input_layer)\n",
    "output=GlobalAveragePooling2D()(x)\n",
    "\n",
    "model=Model(inputs=input_layer, outputs=output)\n",
    "model.summary()"
   ]
  },
  {
   "cell_type": "code",
   "execution_count": 158,
   "metadata": {},
   "outputs": [
    {
     "data": {
      "text/plain": [
       "<matplotlib.image.AxesImage at 0x1a4799dafd0>"
      ]
     },
     "execution_count": 158,
     "metadata": {},
     "output_type": "execute_result"
    },
    {
     "data": {
      "image/png": "[encoded data removed]",
      "text/plain": [
       "<matplotlib.figure.Figure at 0x1a479a28e10>"
      ]
     },
     "metadata": {},
     "output_type": "display_data"
    }
   ],
   "source": [
    "test_data=np.reshape(np.array([[1,2], [3,4]]), (1,2,2)) #(1,2,2)=(1,2,2,1)\n",
    "test_data\n",
    "plt.imshow(test_data[0]) #test_data[0]第一筆 imshow裡的值"
   ]
  },
  {
   "cell_type": "code",
   "execution_count": 155,
   "metadata": {},
   "outputs": [
    {
     "name": "stdout",
     "output_type": "stream",
     "text": [
      "_________________________________________________________________\n",
      "Layer (type)                 Output Shape              Param #   \n",
      "=================================================================\n",
      "input_86 (InputLayer)        (None, 2, 2)              0         \n",
      "_________________________________________________________________\n",
      "reshape_19 (Reshape)         (None, 2, 2, 1)           0         \n",
      "_________________________________________________________________\n",
      "up_sampling2d_6 (UpSampling2 (None, 4, 4, 1)           0         \n",
      "=================================================================\n",
      "Total params: 0\n",
      "Trainable params: 0\n",
      "Non-trainable params: 0\n",
      "_________________________________________________________________\n"
     ]
    }
   ],
   "source": [
    "input_layer=Input(shape=(2,2))\n",
    "\n",
    "x=Reshape((2,2,1))(input_layer)\n",
    "output=UpSampling2D((2,2))(x)\n",
    "\n",
    "model=Model(inputs=input_layer, outputs=output)\n",
    "model.summary()"
   ]
  },
  {
   "cell_type": "code",
   "execution_count": 160,
   "metadata": {},
   "outputs": [
    {
     "data": {
      "text/plain": [
       "<matplotlib.image.AxesImage at 0x1a4799237f0>"
      ]
     },
     "execution_count": 160,
     "metadata": {},
     "output_type": "execute_result"
    },
    {
     "data": {
      "image/png": "[encoded data removed]",
      "text/plain": [
       "<matplotlib.figure.Figure at 0x1a479969438>"
      ]
     },
     "metadata": {},
     "output_type": "display_data"
    }
   ],
   "source": [
    "output_data=model.predict(test_data)\n",
    "output_data=np.reshape(output_data, (4,4))\n",
    "plt.imshow(output_data)"
   ]
  },
  {
   "cell_type": "code",
   "execution_count": 169,
   "metadata": {},
   "outputs": [
    {
     "name": "stdout",
     "output_type": "stream",
     "text": [
      "_________________________________________________________________\n",
      "Layer (type)                 Output Shape              Param #   \n",
      "=================================================================\n",
      "input_91 (InputLayer)        (None, 2, 2)              0         \n",
      "_________________________________________________________________\n",
      "reshape_24 (Reshape)         (None, 2, 2, 1)           0         \n",
      "_________________________________________________________________\n",
      "conv2d_transpose_3 (Conv2DTr (None, 4, 4, 1)           10        \n",
      "=================================================================\n",
      "Total params: 10\n",
      "Trainable params: 10\n",
      "Non-trainable params: 0\n",
      "_________________________________________________________________\n"
     ]
    }
   ],
   "source": [
    "input_layer=Input(shape=(2,2))\n",
    "\n",
    "x=Reshape((2,2,1))(input_layer)\n",
    "output=Conv2DTranspose(filters=1, kernel_size=(3,3), strides=(1, 1), padding='valid', output_padding=None\\\n",
    "                       , data_format=None, dilation_rate=(1, 1), activation=None, use_bias=True\\\n",
    "                       , kernel_initializer='glorot_uniform', bias_initializer='zeros', kernel_regularizer=None\\\n",
    "                       , bias_regularizer=None, activity_regularizer=None, kernel_constraint=None, bias_constraint=None)(x)\n",
    "\n",
    "model=Model(inputs=input_layer, outputs=output)\n",
    "model.summary()\n",
    "\n",
    "#3*3+1"
   ]
  },
  {
   "cell_type": "code",
   "execution_count": 170,
   "metadata": {},
   "outputs": [
    {
     "data": {
      "text/plain": [
       "<matplotlib.image.AxesImage at 0x1a46d897390>"
      ]
     },
     "execution_count": 170,
     "metadata": {},
     "output_type": "execute_result"
    },
    {
     "data": {
      "image/png": "[encoded data removed]",
      "text/plain": [
       "<matplotlib.figure.Figure at 0x1a479878940>"
      ]
     },
     "metadata": {},
     "output_type": "display_data"
    }
   ],
   "source": [
    "output_data=model.predict(test_data)\n",
    "output_data=np.reshape(output_data, (4,4))\n",
    "plt.imshow(output_data)"
   ]
  },
  {
   "cell_type": "code",
   "execution_count": null,
   "metadata": {},
   "outputs": [],
   "source": []
  }
 ],
 "metadata": {
  "kernelspec": {
   "display_name": "Python (py3.6)",
   "language": "python",
   "name": "myenv"
  },
  "language_info": {
   "codemirror_mode": {
    "name": "ipython",
    "version": 3
   },
   "file_extension": ".py",
   "mimetype": "text/x-python",
   "name": "python",
   "nbconvert_exporter": "python",
   "pygments_lexer": "ipython3",
   "version": "3.6.9"
  }
 },
 "nbformat": 4,
 "nbformat_minor": 2
}
